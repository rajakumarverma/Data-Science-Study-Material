{
 "cells": [
  {
   "cell_type": "markdown",
   "id": "236f69b9",
   "metadata": {},
   "source": [
    "# Data Cleaning Process"
   ]
  },
  {
   "cell_type": "code",
   "execution_count": null,
   "id": "9fea3159",
   "metadata": {},
   "outputs": [],
   "source": [
    "# Step 1: Import Libraries\n",
    "import pandas as pd\n",
    "import numpy as np"
   ]
  },
  {
   "cell_type": "code",
   "execution_count": null,
   "id": "668c2d69",
   "metadata": {
    "scrolled": true
   },
   "outputs": [],
   "source": [
    "# Step 2: Load the Data\n",
    "df = pd.read_csv('your_data.csv')"
   ]
  },
  {
   "cell_type": "code",
   "execution_count": null,
   "id": "85c508cd",
   "metadata": {},
   "outputs": [],
   "source": [
    "# Step 3: Handling Missing Values\n",
    "# Check for missing values\n",
    "missing_values = df.isnull().sum()"
   ]
  },
  {
   "cell_type": "code",
   "execution_count": null,
   "id": "715c21c1",
   "metadata": {},
   "outputs": [],
   "source": [
    "# Fill missing values with a specific value (e.g., mean or median)\n",
    "df['column_name'].fillna(df['column_name'].mean(), inplace=True)"
   ]
  },
  {
   "cell_type": "code",
   "execution_count": null,
   "id": "92ceda61",
   "metadata": {},
   "outputs": [],
   "source": [
    "# Drop rows with missing values\n",
    "df.dropna(inplace=Tru"
   ]
  },
  {
   "cell_type": "code",
   "execution_count": null,
   "id": "066e8475",
   "metadata": {},
   "outputs": [],
   "source": [
    "# Step 4: Removing Duplicates\n",
    "df.drop_duplicates(inplace=True)"
   ]
  },
  {
   "cell_type": "code",
   "execution_count": null,
   "id": "e3dc799d",
   "metadata": {},
   "outputs": [],
   "source": [
    "# Step 5: Handling Outliers\n",
    "# Detect and remove outliers using z-scores\n",
    "from scipy import stats\n",
    "z_scores = np.abs(stats.zscore(df['column_name']))\n",
    "df = df[(z_scores < 3)]"
   ]
  },
  {
   "cell_type": "code",
   "execution_count": null,
   "id": "298457ff",
   "metadata": {},
   "outputs": [],
   "source": [
    "# Step 6: Data Type Conversion\n",
    "df['column_name'] = pd.to_numeric(df['column_name'], errors='coerce')\n",
    "df['date_column'] = pd.to_datetime(df['date_column'])"
   ]
  },
  {
   "cell_type": "code",
   "execution_count": null,
   "id": "1794acb4",
   "metadata": {},
   "outputs": [],
   "source": [
    "# Step 7: Feature Engineering\n",
    "df['new_feature'] = df['feature1'] + df['feature2']"
   ]
  },
  {
   "cell_type": "code",
   "execution_count": null,
   "id": "d515876a",
   "metadata": {},
   "outputs": [],
   "source": [
    "# Step 8: Renaming Columns\n",
    "df.rename(columns={'old_name': 'new_name'}, inplace=True)"
   ]
  },
  {
   "cell_type": "code",
   "execution_count": null,
   "id": "3652b3d7",
   "metadata": {},
   "outputs": [],
   "source": [
    "# Step 9: Data Scaling or Normalization\n",
    "from sklearn.preprocessing import MinMaxScaler\n",
    "scaler = MinMaxScaler()\n",
    "df['scaled_feature'] = scaler.fit_transform(df[['feature']])"
   ]
  },
  {
   "cell_type": "code",
   "execution_count": null,
   "id": "f3c6eb14",
   "metadata": {},
   "outputs": [],
   "source": [
    "# Step 10: Saving the Cleaned Data\n",
    "df.to_csv('cleaned_data.csv', index=False)"
   ]
  }
 ],
 "metadata": {
  "kernelspec": {
   "display_name": "Python 3 (ipykernel)",
   "language": "python",
   "name": "python3"
  },
  "language_info": {
   "codemirror_mode": {
    "name": "ipython",
    "version": 3
   },
   "file_extension": ".py",
   "mimetype": "text/x-python",
   "name": "python",
   "nbconvert_exporter": "python",
   "pygments_lexer": "ipython3",
   "version": "3.10.9"
  }
 },
 "nbformat": 4,
 "nbformat_minor": 5
}
